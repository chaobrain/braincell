{
 "cells": [
  {
   "cell_type": "code",
   "execution_count": 1,
   "metadata": {},
   "outputs": [
    {
     "name": "stderr",
     "output_type": "stream",
     "text": [
      "Warning: no DISPLAY environment variable.\n",
      "--No graphics will be displayed.\n",
      "/home/swl/anaconda3/envs/braincell/bin/nrnivmodl:10: DeprecationWarning: pkg_resources is deprecated as an API. See https://setuptools.pypa.io/en/latest/pkg_resources.html\n",
      "  from pkg_resources import working_set\n"
     ]
    },
    {
     "name": "stdout",
     "output_type": "stream",
     "text": [
      "/home/swl/braincell/examples/MC13_golgi_model\n",
      "Mod files: \"/home/swl/braincell/examples/MC13_golgi_model/golgi_NEURON/mod_gol//home/swl/braincell/examples/MC13_golgi_model/golgi_NEURON/mod_gol/Cav12.mod\" \"/home/swl/braincell/examples/MC13_golgi_model/golgi_NEURON/mod_gol//home/swl/braincell/examples/MC13_golgi_model/golgi_NEURON/mod_gol/Cav13.mod\" \"/home/swl/braincell/examples/MC13_golgi_model/golgi_NEURON/mod_gol//home/swl/braincell/examples/MC13_golgi_model/golgi_NEURON/mod_gol/Cav2_3.mod\" \"/home/swl/braincell/examples/MC13_golgi_model/golgi_NEURON/mod_gol//home/swl/braincell/examples/MC13_golgi_model/golgi_NEURON/mod_gol/Cav3_1.mod\" \"/home/swl/braincell/examples/MC13_golgi_model/golgi_NEURON/mod_gol//home/swl/braincell/examples/MC13_golgi_model/golgi_NEURON/mod_gol/cdp5StCmod.mod\" \"/home/swl/braincell/examples/MC13_golgi_model/golgi_NEURON/mod_gol//home/swl/braincell/examples/MC13_golgi_model/golgi_NEURON/mod_gol/GOLGI_Ampa_mossy_det_vi.mod\" \"/home/swl/braincell/examples/MC13_golgi_model/golgi_NEURON/mod_gol//home/swl/braincell/examples/MC13_golgi_model/golgi_NEURON/mod_gol/GOLGI_Ampa_pf_aa_det_vi.mod\" \"/home/swl/braincell/examples/MC13_golgi_model/golgi_NEURON/mod_gol//home/swl/braincell/examples/MC13_golgi_model/golgi_NEURON/mod_gol/GRC_CA.mod\" \"/home/swl/braincell/examples/MC13_golgi_model/golgi_NEURON/mod_gol//home/swl/braincell/examples/MC13_golgi_model/golgi_NEURON/mod_gol/GRC_KM.mod\" \"/home/swl/braincell/examples/MC13_golgi_model/golgi_NEURON/mod_gol//home/swl/braincell/examples/MC13_golgi_model/golgi_NEURON/mod_gol/Hcn1.mod\" \"/home/swl/braincell/examples/MC13_golgi_model/golgi_NEURON/mod_gol//home/swl/braincell/examples/MC13_golgi_model/golgi_NEURON/mod_gol/Hcn2.mod\" \"/home/swl/braincell/examples/MC13_golgi_model/golgi_NEURON/mod_gol//home/swl/braincell/examples/MC13_golgi_model/golgi_NEURON/mod_gol/Kca11.mod\" \"/home/swl/braincell/examples/MC13_golgi_model/golgi_NEURON/mod_gol//home/swl/braincell/examples/MC13_golgi_model/golgi_NEURON/mod_gol/Kca22.mod\" \"/home/swl/braincell/examples/MC13_golgi_model/golgi_NEURON/mod_gol//home/swl/braincell/examples/MC13_golgi_model/golgi_NEURON/mod_gol/Kca31.mod\" \"/home/swl/braincell/examples/MC13_golgi_model/golgi_NEURON/mod_gol//home/swl/braincell/examples/MC13_golgi_model/golgi_NEURON/mod_gol/Kv11.mod\" \"/home/swl/braincell/examples/MC13_golgi_model/golgi_NEURON/mod_gol//home/swl/braincell/examples/MC13_golgi_model/golgi_NEURON/mod_gol/Kv34.mod\" \"/home/swl/braincell/examples/MC13_golgi_model/golgi_NEURON/mod_gol//home/swl/braincell/examples/MC13_golgi_model/golgi_NEURON/mod_gol/Kv43.mod\" \"/home/swl/braincell/examples/MC13_golgi_model/golgi_NEURON/mod_gol//home/swl/braincell/examples/MC13_golgi_model/golgi_NEURON/mod_gol/Leak.mod\" \"/home/swl/braincell/examples/MC13_golgi_model/golgi_NEURON/mod_gol//home/swl/braincell/examples/MC13_golgi_model/golgi_NEURON/mod_gol/Nav16.mod\" \"/home/swl/braincell/examples/MC13_golgi_model/golgi_NEURON/mod_gol//home/swl/braincell/examples/MC13_golgi_model/golgi_NEURON/mod_gol/PC_NMDA_NR2B.mod\"\n",
      "\n",
      " -> \u001b[32mCompiling\u001b[0m mod_func.cpp\n",
      " => \u001b[32mLINKING\u001b[0m shared library ./libnrnmech.so\n",
      "Successfully created x86_64/special\n",
      "available devices: [CudaDevice(id=0)]\n"
     ]
    }
   ],
   "source": [
    "import numpy as np\n",
    "from neuron import h, gui\n",
    "import os\n",
    "import sys\n",
    "import time\n",
    "import brainstate \n",
    "import braintools \n",
    "import brainunit as u\n",
    "import jax\n",
    "import matplotlib.pyplot as plt\n",
    "import braincell as dx\n",
    "import jax.numpy as jnp\n",
    "from scipy.interpolate import interp1d\n",
    "import json\n",
    "\n",
    "## load gol mor\n",
    "parent_folder_path = os.path.join(os.getcwd(), 'golgi_NEURON')\n",
    "sys.path.append(parent_folder_path)\n",
    "from GOL import Golgi_morpho_1\n",
    "\n",
    "## load gol mod\n",
    "current_dir = os.getcwd()\n",
    "mod_path = os.path.join(current_dir, 'golgi_NEURON', 'mod_gol')\n",
    "os.system(f'nrnivmodl {mod_path}')\n",
    "\n",
    "current_dir = os.path.dirname(os.path.abspath('.'))\n",
    "project_root = os.path.abspath(os.path.join(current_dir, '..', '..'))\n",
    "dendritex_path = os.path.join(project_root, 'braincell')\n",
    "sys.path.insert(0, dendritex_path)\n",
    "\n",
    "brainstate .environ.set(precision=64)\n",
    "#jax.config.update(\"jax_disable_jit\", True)\n",
    "\n",
    "# set visible GPU\n",
    "os.environ[\"CUDA_VISIBLE_DEVICES\"] = \"0\"\n",
    "devices = jax.devices()\n",
    "print(\"available devices:\", devices)"
   ]
  },
  {
   "cell_type": "markdown",
   "metadata": {},
   "source": [
    "## NEURON "
   ]
  },
  {
   "cell_type": "code",
   "execution_count": 2,
   "metadata": {},
   "outputs": [],
   "source": [
    "## run\n",
    "def NeuronRun(cell, stim, tstop, dt, v_init):\n",
    "    ## create record vector\n",
    "    t_vec = h.Vector()\n",
    "    t_vec.record(h._ref_t)\n",
    "    v_vecs = []\n",
    "\n",
    "    for sec in h.allsec():\n",
    "        for seg in sec:\n",
    "            v_vec = h.Vector()\n",
    "            v_vec.record(seg._ref_v)\n",
    "            v_vecs.append(v_vec)\n",
    "\n",
    "    ## simulation\n",
    "    h.celsius = 22\n",
    "    h.dt = dt\n",
    "    h.v_init = v_init\n",
    "    h.finitialize(v_init)\n",
    "    \n",
    "    h.continuerun(tstop)\n",
    "    return t_vec, v_vecs\n",
    "\n",
    "def step_stim(cell, delay, dur, amp):\n",
    "    stim = h.IClamp(cell.soma[0](0.5))\n",
    "    stim.delay = delay\n",
    "    stim.dur = dur\n",
    "    stim.amp = amp\n",
    "    return stim"
   ]
  },
  {
   "cell_type": "markdown",
   "metadata": {},
   "source": [
    "## Braincell data\n"
   ]
  },
  {
   "cell_type": "code",
   "execution_count": 3,
   "metadata": {},
   "outputs": [
    {
     "name": "stdout",
     "output_type": "stream",
     "text": [
      "317\n"
     ]
    }
   ],
   "source": [
    "mor_info = np.load('golgi_info.npy',allow_pickle= True).item()\n",
    "index_info = np.load('golgi_index.npy', allow_pickle=True).item()\n",
    "\n",
    "with open('golgi_connection.json', 'r') as file:\n",
    "    mor_connection = json.load(file)\n",
    "\n",
    "\n",
    "index_soma = index_info['index_soma']\n",
    "index_axon =  index_info['index_axon']\n",
    "index_dend_basal =  index_info['index_dend_basal']\n",
    "index_dend_apical = index_info['index_dend_apical']\n",
    "\n",
    "n_neuron = 1\n",
    "n_compartments = len(index_soma) + len(index_axon) + len(index_dend_basal) + len(index_dend_apical)\n",
    "print(n_compartments)\n",
    "size = (n_neuron, n_compartments)\n",
    "\n",
    "## conductvalues \n",
    "conductvalues = 1e3 * np.array([\n",
    "    0.00499506303209, 0.01016375552607, 0.00247172479141, 0.00128859564935,\n",
    "    3.690771983E-05, 0.0080938853146, 0.01226052748146, 0.01650689958385,\n",
    "    0.00139885617712, 0.14927733727426, 0.00549507510519, 0.14910988921938,\n",
    "    0.00406420380423, 0.01764345789036, 0.10177335775222, 0.0087689418803,\n",
    "    3.407734319E-05, 0.0003371456442, 0.00030643090764, 0.17233663543619,\n",
    "    0.00024381226198, 0.10008178886943, 0.00595046001148, 0.0115, 0.0091\n",
    "])\n",
    "\n",
    "## IL \n",
    "gl = np.ones(n_compartments)\n",
    "gl[index_soma] = 0.03\n",
    "gl[index_axon] = 0.001\n",
    "gl[index_axon[0:5]] = 0.03\n",
    "gl[index_dend_basal] = 0.03\n",
    "gl[index_dend_apical] = 0.03\n",
    "\n",
    "## IKv11_Ak2007\n",
    "gkv11 = np.zeros(n_compartments)\n",
    "gkv11[index_soma] = conductvalues[10]\n",
    "\n",
    "## IKv34_Ma2020  \n",
    "gkv34 = np.zeros(n_compartments)\n",
    "gkv34[index_soma] = conductvalues[11]\n",
    "gkv34[index_axon[5:]] = 9.1\n",
    "\n",
    "## IKv43_Ma2020\n",
    "gkv43 = np.zeros(n_compartments)\n",
    "gkv43[index_soma] = conductvalues[12]\n",
    "\n",
    "## ICaGrc_Ma2020\n",
    "gcagrc = np.zeros(n_compartments)\n",
    "gcagrc[index_soma] = conductvalues[15]\n",
    "gcagrc[index_dend_basal] = conductvalues[8]\n",
    "gcagrc[index_axon[0:5]] = conductvalues[22]\n",
    "\n",
    "## ICav23_Ma2020\n",
    "gcav23 = np.zeros(n_compartments)\n",
    "gcav23[index_dend_apical] = conductvalues[3]\n",
    "\n",
    "## ICav31_Ma2020 \n",
    "gcav31 = np.zeros(n_compartments)\n",
    "gcav31[index_soma] = conductvalues[16]\n",
    "gcav31[index_dend_apical] = conductvalues[4]\n",
    "\n",
    "## INa_Rsg\n",
    "gnarsg = np.zeros(n_compartments)\n",
    "gnarsg[index_soma] = conductvalues[9]\n",
    "gnarsg[index_dend_apical] = conductvalues[0]\n",
    "gnarsg[index_dend_basal] = conductvalues[5]\n",
    "gnarsg[index_axon[0:5]] = conductvalues[19]\n",
    "gnarsg[index_axon[5:]] = 11.5\n",
    "\n",
    "## Ih1_Ma2020 \n",
    "gh1 = np.zeros(n_compartments)\n",
    "gh1[index_axon[0:5]] = conductvalues[17]\n",
    "\n",
    "## Ih2_Ma2020 \n",
    "gh2 = np.zeros(n_compartments)\n",
    "gh2[index_axon[0:5]] = conductvalues[18]\n",
    "\n",
    "## IKca3_1_Ma2020 \n",
    "gkca31 = np.zeros(n_compartments)\n",
    "gkca31[index_soma] = conductvalues[14]"
   ]
  },
  {
   "cell_type": "markdown",
   "metadata": {},
   "source": [
    "## Braincell"
   ]
  },
  {
   "cell_type": "code",
   "execution_count": 4,
   "metadata": {},
   "outputs": [],
   "source": [
    "class Golgi(dx.MultiCompartment_test):\n",
    "    def __init__(self, size, el, gl, gh1, gh2, ek, gkv11, gkv34, gkv43, ena, gnarsg, gcagrc=0, gcav23=0, gcav31=0, gkca31=0, Gl=0, El=-65, V_init=-55, solver = 'exp_euler'):\n",
    "        super().__init__(\n",
    "            size=size,\n",
    "            V_th= 20. * u.mV,\n",
    "            V_initializer=brainstate.init.Constant(V_init * u.mV),\n",
    "            spk_fun=brainstate.surrogate.ReluGrad(),\n",
    "            solver = solver,\n",
    "            Gl = Gl * u.mS / (u.cm ** 2),\n",
    "            El = El * u.mV,)\n",
    "        \n",
    "        self.IL = dx.channel.IL(self.varshape, E= el * u.mV, g_max= gl * u.mS / (u.cm ** 2))\n",
    "        self.Ih1 = dx.channel.Ih1_Ma2020(self.varshape, E= -20. * u.mV, g_max= gh1 * u.mS / (u.cm ** 2))\n",
    "        self.Ih2 = dx.channel.Ih2_Ma2020(self.varshape, E= -20. * u.mV, g_max= gh2 * u.mS / (u.cm ** 2))\n",
    "\n",
    "        self.k = dx.ion.PotassiumFixed(self.varshape, E= ek * u.mV)\n",
    "        self.k.add(IK_1 = dx.channel.IKv11_Ak2007(self.varshape, g_max= gkv11 * u.mS / (u.cm ** 2)))\n",
    "        self.k.add(IK_2 = dx.channel.IKv34_Ma2020(self.varshape, g_max= gkv34 * u.mS / (u.cm ** 2)))\n",
    "        self.k.add(IK_3 = dx.channel.IKv43_Ma2020(self.varshape, g_max= gkv43 * u.mS / (u.cm ** 2)))\n",
    "\n",
    "        self.na = dx.ion.SodiumFixed(self.varshape, E= ena * u.mV)\n",
    "        self.na.add(INa =dx.channel.INa_Rsg(self.varshape, g_max= gnarsg * u.mS / (u.cm ** 2)))\n",
    "        #self.na.add(INa =dx.channel.INa_HH1952(self.varshape))\n",
    "        \n",
    "        #self.ca = dx.ion.CalciumDetailed(size, C_rest=5e-5 * u.mM, tau=10. * u.ms, d=0.5 * u.um)\n",
    "        #self.ca = dx.ion.CalciumFixed(self.varshape, E=137.* u.mV, C =5e-5 * u.mM)\n",
    "        #self.ca.add(ICaL=dx.channel.ICaGrc_Ma2020(self.varshape, g_max=gcagrc * (u.mS / u.cm ** 2)))\n",
    "        #self.ca.add(ICaL=dx.channel.ICav23_Ma2020(self.varshape, g_max=gcav23 * (u.mS / u.cm ** 2)))\n",
    "        #self.ca.add(ICaL=dx.channel.ICav31_Ma2020(self.varshape, g_max=gcav31 * (u.mS / u.cm ** 2)))\n",
    "\n",
    "        #self.kca = dx.MixIons(self.k, self.ca)\n",
    "        #self.kca.add(IKca = dx.channel.IKca1_1_Ma2020(self.varshape, g_max=gkca31 * u.mS / (u.cm ** 2)))\n",
    "\n",
    "    def step_run(self, t, inp):\n",
    "        with brainstate.environ.context(t=t):\n",
    "            self.update(inp)\n",
    "            return self.V.value #, (self.Ih1.p.value, self.Ih1.q.value, )"
   ]
  },
  {
   "cell_type": "code",
   "execution_count": 5,
   "metadata": {},
   "outputs": [],
   "source": [
    "## run \n",
    "def BraincellRun(neu,I, dt):\n",
    "    ## time\n",
    "    brainstate.environ.set(dt= dt * u.ms)\n",
    "    times = u.math.arange(I.shape[0]) * brainstate.environ.get_dt()\n",
    "    ## init and reset\n",
    "    neu.init_state()\n",
    "    neu.reset_state()\n",
    "    ## run\n",
    "    vs = brainstate.compile.for_loop(neu.step_run, times, I)\n",
    "    #print(p)\n",
    "    return times.to_decimal(u.ms), vs.to_decimal(u.mV) #,p\n",
    "\n",
    "## different input func\n",
    "def step_input(num, dur, amp, dt):\n",
    "    brainstate.environ.set(dt= dt * u.ms)\n",
    "    value = jnp.zeros((len(dur),num))\n",
    "    for i in range(len(value)):\n",
    "        value = value.at[i, 0].set(amp[i])\n",
    "\n",
    "    I = braintools.input.section_input(values=value, durations= dur * u.ms) * u.nA\n",
    "    return I"
   ]
  },
  {
   "cell_type": "markdown",
   "metadata": {},
   "source": [
    "## NEURON Simulation "
   ]
  },
  {
   "cell_type": "code",
   "execution_count": 6,
   "metadata": {},
   "outputs": [
    {
     "name": "stdout",
     "output_type": "stream",
     "text": [
      "\n",
      "5389 lines read\n"
     ]
    },
    {
     "data": {
      "image/png": "[encoded data removed]",
      "text/plain": [
       "<Figure size 640x480 with 1 Axes>"
      ]
     },
     "metadata": {},
     "output_type": "display_data"
    }
   ],
   "source": [
    "cell = Golgi_morpho_1(el=-55, gl=1, ghcn1=1, ghcn2=1, ena=60, gna=1, ek=-80, gkv11=1, gkv34=1, gkv43=1)\n",
    "stim = step_stim(cell, delay=0, dur = 100, amp=0.0)\n",
    "t_vec, v_vecs = NeuronRun(cell=cell, stim=stim, tstop=100, dt=0.01, v_init=-65)\n",
    "\n",
    "for i in range(1):\n",
    "    plt.plot(t_vec, v_vecs[i], label=f'sec_{i}')\n",
    "#plt.legend()\n",
    "plt.xlabel('Time (ms)') \n",
    "plt.ylabel('Voltage (mV)')\n",
    "plt.title('Voltage(NEURON)')\n",
    "plt.grid(True)\n",
    "plt.show()"
   ]
  },
  {
   "cell_type": "markdown",
   "metadata": {},
   "source": [
    "## BRAINCELL Simulation"
   ]
  },
  {
   "cell_type": "code",
   "execution_count": 7,
   "metadata": {},
   "outputs": [
    {
     "data": {
      "text/plain": [
       "ArrayImpl([657.23498441,  60.87382698,  57.17166979,  45.0885715 ,\n",
       "            48.30978399,  44.9030... * 10.0^-14 * farad"
      ]
     },
     "execution_count": 7,
     "metadata": {},
     "output_type": "execute_result"
    }
   ],
   "source": [
    "El = -55; Gl=gl;Ek=-80; Ena=60\n",
    "V_init = -65*np.ones(n_compartments)\n",
    "V_init[0] = -65\n",
    "\n",
    "cell = Golgi(size=size, el=El, gl=gl, gh1=gh1, gh2=gh2, ek=Ek, gkv11=gkv11, gkv34=gkv34, gkv43=gkv43, ena=Ena, gnarsg=gnarsg, \n",
    "            Gl=Gl, El = El, V_init=V_init, solver = 'staggered')\n",
    "\n",
    "cell.add_multiple_sections(mor_info)\n",
    "cell.connect_sections(mor_connection) \n",
    "cell.cm * cell.area"
   ]
  },
  {
   "cell_type": "code",
   "execution_count": 8,
   "metadata": {},
   "outputs": [
    {
     "name": "stdout",
     "output_type": "stream",
     "text": [
      "29.850273370742798\n"
     ]
    },
    {
     "data": {
      "image/png": "[encoded data removed]",
      "text/plain": [
       "<Figure size 640x480 with 1 Axes>"
      ]
     },
     "metadata": {},
     "output_type": "display_data"
    }
   ],
   "source": [
    "import time\n",
    "I = step_input(num=n_compartments, dur=[100,0,0], amp=[0.0,0.,0], dt=0.01)\n",
    "t0 = time.time()\n",
    "t1, v1 = BraincellRun(neu=cell, I=I, dt = 0.01)\n",
    "print(time.time() - t0)\n",
    "for i in range(1):\n",
    "    plt.plot(t1,v1[:,:,i], label=f'Braincell_{i}')\n",
    "    plt.plot(t_vec, v_vecs[i], label=f'NEURON_{i}')\n",
    "plt.legend()\n",
    "plt.xlabel('Time (ms)')\n",
    "plt.ylabel('Voltage (mV)')\n",
    "plt.title('Voltage(Braincell)')\n",
    "plt.grid(True)\n",
    "plt.show()\n"
   ]
  },
  {
   "cell_type": "code",
   "execution_count": 9,
   "metadata": {},
   "outputs": [],
   "source": [
    "# num_dt = 2\n",
    "# dt_list = [0.01 * 2 ** i for i in range(num_dt)]\n",
    "# error_1_list = []\n",
    "# error_2_list = []\n",
    "# error_inf_list = []\n",
    "# v_list = [] \n",
    "\n",
    "# ## neuron\n",
    "# cell = Golgi_morpho_1(el=-55, gl=1, ghcn1=1, ghcn2=1, ena=50, gna=0, ek=-80, gkv11=1, gkv34=1, gkv43=1)\n",
    "# stim = step_stim(cell, delay=0, dur=100, amp=0.0)\n",
    "\n",
    "# t_vec, v_vecs = NeuronRun(cell=cell, stim=stim, tstop=100, dt=0.01, v_init=-65)\n",
    "# t_vec = np.array(t_vec);t_vec = t_vec[:-100]\n",
    "# v_vecs = np.array(v_vecs);v_vecs = v_vecs[:,:-100]\n",
    "\n",
    "# v_list.append(v_vecs[0])\n",
    "\n",
    "# for i in range(num_dt):\n",
    "\n",
    "#     El = -55; Gl=gl;Ek=-80; Ena=60\n",
    "#     V_init = -65*np.ones(n_compartments)\n",
    "#     V_init[0] = -65\n",
    "\n",
    "#     cell = Golgi(size=size, el=El, gl=gl, gh1=gh1, gh2=gh2, ek=Ek, gkv11=gkv11, gkv34=gkv34, gkv43=gkv43, ena=Ena, gnarsg=gnarsg, \n",
    "#                 Gl=Gl, El = El, V_init=V_init, solver = 'staggered')\n",
    "\n",
    "#     cell.add_multiple_sections(mor_info)\n",
    "#     cell.connect_sections(mor_connection) \n",
    "#     print(cell.cm * cell.area)\n",
    "\n",
    "#     I = step_input(num=n_compartments, dur=[100,0,0], amp=[0.0,0.,0], dt=dt_list[i])\n",
    "#     t1, v1 = BraincellRun(neu=cell, I=I, dt=dt_list[i])\n",
    "#     v1 = np.roll(v1, 1, axis=0)\n",
    "#     v1[0] = V_init\n",
    "\n",
    "#     ## interpolation for the same length\n",
    "#     f = interp1d(t1, v1[:,:,0].reshape(-1), kind='linear')\n",
    "#     v_list.append(f(t_vec))\n",
    "#     ## error\n",
    "#     error_1_list.append(np.linalg.norm(v_vecs[0] -f(t_vec),1)/len(v_vecs[0]))\n",
    "#     error_2_list.append(np.linalg.norm(v_vecs[0] -f(t_vec),2)/len(v_vecs[0]))\n",
    "#     #error_inf_list.append(np.linalg.norm(v_vecs[0] -f(t_vec),np.inf))\n",
    "\n",
    "# # log_e\n",
    "# log_dt = np.log10(dt_list)\n",
    "# log_error_1 = np.log10(error_1_list)\n",
    "# #log_error_2 = np.log10(error_2_list)\n",
    "# #log_error_inf = np.log10(error_inf_list)\n",
    "\n",
    "# # ref line\n",
    "# x0 = log_dt[0]\n",
    "# y0 = log_error_1[0]\n",
    "# b = y0 - 1 * x0  \n",
    "# reference_line_y = 1 * log_dt + b\n",
    "# plt.plot(log_dt, reference_line_y, linestyle='--', color='red', label='Slope = 1')\n",
    "\n",
    "# # plot\n",
    "# plt.plot(log_dt, log_error_1, marker='o', label='1-norm error')\n",
    "# #plt.plot(log_dt, log_error_2, marker='s', label='2-norm error')\n",
    "# #plt.plot(log_dt, log_error_inf, marker='^', label='Inf-norm error')\n",
    "\n",
    "# #plt.title('Errors vs dt(CN+Rk4)')\n",
    "# plt.xlabel('log(dt)')\n",
    "# plt.ylabel('log(Error)')\n",
    "# plt.grid(True)\n",
    "# plt.legend()\n",
    "\n",
    "# plt.gca().set_aspect('equal', adjustable='box')\n",
    "# plt.show()\n",
    "\n",
    "# ## dt compare\n",
    "# plt.figure(figsize=(8, 6))\n",
    "# for i in range(num_dt+1):\n",
    "#     if i == 0:\n",
    "#         plt.plot(t_vec,v_list[i], linewidth=3,color = 'black', label = 'NEURON(dt=1e-3)')\n",
    "#     elif i<=9:\n",
    "#         plt.plot(t_vec,v_list[i], alpha = 0.9, label = f'dt={dt_list[i-1]}ms')\n",
    "#     plt.legend()\n",
    "# plt.xlabel('Time (ms)')\n",
    "# plt.ylabel('Voltage (mV)')\n",
    "# #plt.title('Voltage')\n",
    "# plt.grid(True)\n",
    "# plt.show()\n",
    "\n"
   ]
  }
 ],
 "metadata": {
  "kernelspec": {
   "display_name": "braincell",
   "language": "python",
   "name": "python3"
  },
  "language_info": {
   "codemirror_mode": {
    "name": "ipython",
    "version": 3
   },
   "file_extension": ".py",
   "mimetype": "text/x-python",
   "name": "python",
   "nbconvert_exporter": "python",
   "pygments_lexer": "ipython3",
   "version": "3.10.16"
  }
 },
 "nbformat": 4,
 "nbformat_minor": 2
}
