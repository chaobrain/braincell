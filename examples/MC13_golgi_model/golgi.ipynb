{
 "cells": [
  {
   "cell_type": "code",
   "execution_count": null,
   "metadata": {},
   "outputs": [],
   "source": [
    "import os\n",
    "import sys\n",
    "import jax\n",
    "from neuron import h, gui\n",
    "import braincell\n",
    "from utils import *\n",
    "\n",
    "## load gol mor\n",
    "parent_folder_path = os.path.join(os.getcwd(), 'golgi_NEURON')\n",
    "sys.path.append(parent_folder_path)\n",
    "from GOL import Golgi_morpho_1\n",
    "\n",
    "## load gol mod\n",
    "current_dir = os.getcwd()\n",
    "mod_path = os.path.join(current_dir, 'golgi_NEURON', 'mod_gol')\n",
    "os.system(f'nrnivmodl {mod_path}')\n",
    "\n",
    "current_dir = os.path.dirname(os.path.abspath('.'))\n",
    "project_root = os.path.abspath(os.path.join(current_dir, '..', '..'))\n",
    "dendritex_path = os.path.join(project_root, 'braincell')\n",
    "sys.path.insert(0, dendritex_path)\n",
    "\n",
    "brainstate.environ.set(precision=32)\n",
    "#jax.config.update(\"jax_disable_jit\", True)\n",
    "\n",
    "# set visible GPU\n",
    "os.environ[\"CUDA_VISIBLE_DEVICES\"] = \"3\"\n",
    "devices = jax.devices()\n",
    "print(\"available devices:\", devices)"
   ]
  },
  {
   "cell_type": "markdown",
   "metadata": {},
   "source": [
    "## NEURON"
   ]
  },
  {
   "cell_type": "code",
   "execution_count": null,
   "metadata": {},
   "outputs": [],
   "source": [
    "## create cell in NEURON\n",
    "cell_neuron = Golgi_morpho_1(el=-55, gl=1, ghcn1=1, ghcn2=1, ena=60, gna=1, ek=-80, gkv11=1, gkv34=1, gkv43=1)\n",
    "## add stim\n",
    "stim = step_stim(cell_neuron, delay=0, dur=10, amp=0.0)\n",
    "## simulation\n",
    "t_neuron, v_neuron, spike_neuron = NeuronRun(cell=cell_neuron, stim=stim, tstop=100, dt=0.01, v_init=-65)\n",
    "## plot voltage traces\n",
    "plot_voltage_traces(t_neuron, v_neuron, indices=[0], title='NEURON Voltage')"
   ]
  },
  {
   "cell_type": "code",
   "execution_count": null,
   "metadata": {},
   "outputs": [],
   "source": [
    "# def run_neuron_with_input(\n",
    "#     amp: float,\n",
    "#     dur: float,\n",
    "#     delay: float = 0.0,\n",
    "#     tstop: float = 100.0,\n",
    "#     dt: float = 0.01,\n",
    "#     v_init: float = -65.0\n",
    "# ):\n",
    "#     h('forall delete_section()')\n",
    "#     cell = Golgi_morpho_1(\n",
    "#         el=-55, gl=1, ghcn1=1, ghcn2=1,\n",
    "#         ena=60, gna=1, ek=-80,\n",
    "#         gkv11=1, gkv34=1, gkv43=1\n",
    "#     )\n",
    "#     stim = step_stim(cell, delay=delay, dur=dur, amp=amp)\n",
    "\n",
    "#     # 运行仿真\n",
    "#     t, v, spikes = NeuronRun(cell=cell, stim=stim, tstop=tstop, dt=dt, v_init=v_init)\n",
    "#     return t, v, spikes\n",
    "\n",
    "# amps = [0.1* i for i in range(100)]\n",
    "# results = [run_neuron_with_input(amp=a, dur=10.0) for a in amps]\n",
    "\n",
    "# t_list, v_list, spikes_list = zip(*results)\n",
    "# for i, (t, v) in enumerate(zip(t_list, v_list)):\n",
    "#     plot_voltage_traces(t, v, indices=[0], title=f'NEURON Cell #{i}')\n"
   ]
  },
  {
   "cell_type": "code",
   "execution_count": null,
   "metadata": {},
   "outputs": [],
   "source": [
    "class Golgi(braincell.MultiCompartment):\n",
    "    def __init__(self, popsize, morphology, el, gl, gh1, gh2, ek, gkv11, gkv34, gkv43, ena, gnarsg, gcagrc=0, gcav23=0,\n",
    "                 gcav31=0, gkca31=0, Gl=0, El=-65, V_init=-65, solver='ind_exp_euler'):\n",
    "        super().__init__(\n",
    "            popsize=popsize,\n",
    "            morphology=morphology,\n",
    "            V_th=20. * u.mV,\n",
    "            V_initializer=brainstate.init.Constant(V_init * u.mV),\n",
    "            spk_fun=brainstate.surrogate.ReluGrad(),\n",
    "            solver=solver,\n",
    "        )\n",
    "\n",
    "        self.IL = braincell.channel.IL(self.varshape, E=el * u.mV, g_max=gl * u.mS / (u.cm ** 2))\n",
    "        self.Ih1 = braincell.channel.Ih1_Ma2020(self.varshape, E=-20. * u.mV, g_max=gh1 * u.mS / (u.cm ** 2))\n",
    "        self.Ih2 = braincell.channel.Ih2_Ma2020(self.varshape, E=-20. * u.mV, g_max=gh2 * u.mS / (u.cm ** 2))\n",
    "\n",
    "        self.k = braincell.ion.PotassiumFixed(self.varshape, E=ek * u.mV)\n",
    "        self.k.add(IKv11=braincell.channel.IKv11_Ak2007(self.varshape, g_max=gkv11 * u.mS / (u.cm ** 2)))\n",
    "        self.k.add(IKv34=braincell.channel.IKv34_Ma2020(self.varshape, g_max=gkv34 * u.mS / (u.cm ** 2)))\n",
    "        self.k.add(IKv43=braincell.channel.IKv43_Ma2020(self.varshape, g_max=gkv43 * u.mS / (u.cm ** 2)))\n",
    "\n",
    "        self.na = braincell.ion.SodiumFixed(self.varshape, E=ena * u.mV)\n",
    "        self.na.add(INa_Rsg=braincell.channel.INa_Rsg(self.varshape, g_max=gnarsg * u.mS / (u.cm ** 2)))\n",
    "        #self.na.add(INa =braincell.channel.INa_HH1952(self.varshape))\n",
    "\n",
    "        #self.ca = braincell.ion.CalciumDetailed(size, C_rest=5e-5 * u.mM, tau=10. * u.ms, d=0.5 * u.um)\n",
    "        #self.ca = braincell.ion.CalciumFixed(self.varshape, E=137.* u.mV, C =5e-5 * u.mM)\n",
    "        #self.ca.add(ICaL=braincell.channel.ICaGrc_Ma2020(self.varshape, g_max=gcagrc * (u.mS / u.cm ** 2)))\n",
    "        #self.ca.add(ICaL=braincell.channel.ICav23_Ma2020(self.varshape, g_max=gcav23 * (u.mS / u.cm ** 2)))\n",
    "        #self.ca.add(ICaL=braincell.channel.ICav31_Ma2020(self.varshape, g_max=gcav31 * (u.mS / u.cm ** 2)))\n",
    "\n",
    "        #self.kca = braincell.MixIons(self.k, self.ca)\n",
    "        #self.kca.add(IKca = braincell.channel.IKca1_1_Ma2020(self.varshape, g_max=gkca31 * u.mS / (u.cm ** 2)))\n",
    "\n",
    "    def step_run(self, t, inp):\n",
    "        with brainstate.environ.context(t=t):\n",
    "            self.update(inp)\n",
    "            return self.V.value"
   ]
  },
  {
   "cell_type": "code",
   "execution_count": null,
   "metadata": {},
   "outputs": [],
   "source": [
    "## create cell in Braincell\n",
    "# 1.load morphology from asc file\n",
    "Golgi_mor = braincell.Morphology.from_asc('golgi.asc')\n",
    "# 2.set sections' passive params: nseg, Ra and cm\n",
    "Golgi_mor.set_passive_params()\n",
    "\n",
    "# 3.set segments' active params: ion channel conductance, ion reversal potential and so on\n",
    "gl, gh1, gh2, gkv11, gkv34, gkv43, gnarsg, gcagrc, gcav23, gcav31, gkca31 = seg_ion_params(Golgi_mor)\n",
    "nseg = len(Golgi_mor.segments)\n",
    "El = -55\n",
    "Ek = -80\n",
    "Ena = 60\n",
    "V_init = -65 * np.ones(nseg)\n",
    "popsize = 500  # number of cells in the population\n",
    "# 5.create Multicompartment model with morpho and ion channels\n",
    "cell_braincell = Golgi(\n",
    "    popsize=popsize, morphology=Golgi_mor,\n",
    "    el=El, gl=gl, gh1=gh1, gh2=gh2, ek=Ek, gkv11=gkv11, gkv34=gkv34,\n",
    "    gkv43=gkv43, ena=Ena, gnarsg=gnarsg,\n",
    "    V_init=V_init, solver='staggered'\n",
    ")"
   ]
  },
  {
   "cell_type": "code",
   "execution_count": null,
   "metadata": {},
   "outputs": [],
   "source": [
    "#tree = Golgi_mor.to_branch_tree()\n",
    "# tree.plot()"
   ]
  },
  {
   "cell_type": "code",
   "execution_count": null,
   "metadata": {},
   "outputs": [],
   "source": [
    "## stim\n",
    "DT = 0.01\n",
    "I = step_input(num=nseg, dur=[100, 0, 0], amp=[0, 0, 0], dt=DT)\n",
    "## simulation\n",
    "t_braincell, v_braincell = BraincellRun(cell=cell_braincell, I=I, dt=DT)\n",
    "\n",
    "v_braincell = v_braincell.reshape((v_braincell.shape[0],-1,v_braincell.shape[-1]))  # (P, Nseg)\n",
    "# plot \n",
    "plot_voltage_comparison(\n",
    "    t_neuron, v_neuron,\n",
    "    t_braincell, v_braincell,\n",
    "    indices=range(1)\n",
    ")"
   ]
  },
  {
   "cell_type": "code",
   "execution_count": null,
   "metadata": {},
   "outputs": [],
   "source": [
    "I_pop = u.math.stack([\n",
    "    step_input(num=nseg, dur=[100, 0, 0], amp=[i * 0.001, 0, 0], dt=DT)\n",
    "    for i in range(popsize)\n",
    "], axis=1)  \n",
    "\n",
    "t_braincell, v_braincell = BraincellRun(cell=cell_braincell, I=I_pop, dt=DT)\n",
    "\n",
    "v0 = v_braincell[:, :, 0]\n",
    "\n",
    "for i in range(v0.shape[1]): \n",
    "    plt.plot(t_braincell, v0[:, i], label=f'cell_{i}')\n",
    " \n",
    "plt.xlabel(\"Time\")\n",
    "plt.ylabel(\"V (mV)\")\n",
    "plt.legend()\n",
    "plt.show()\n"
   ]
  }
 ],
 "metadata": {
  "kernelspec": {
   "display_name": "braincell",
   "language": "python",
   "name": "python3"
  },
  "language_info": {
   "codemirror_mode": {
    "name": "ipython",
    "version": 3
   },
   "file_extension": ".py",
   "mimetype": "text/x-python",
   "name": "python",
   "nbconvert_exporter": "python",
   "pygments_lexer": "ipython3",
   "version": "3.10.16"
  }
 },
 "nbformat": 4,
 "nbformat_minor": 2
}
