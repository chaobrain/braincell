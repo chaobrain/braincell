{
 "cells": [
  {
   "cell_type": "code",
   "execution_count": 1,
   "metadata": {},
   "outputs": [],
   "source": [
    "import time\n",
    "import brainstate\n",
    "import braintools\n",
    "import brainunit as u\n",
    "import matplotlib.pyplot as plt\n",
    "import braincell\n",
    "\n",
    "class ThalamusNeuron(braincell.neuron.SingleCompartment):\n",
    "    def compute_derivative(self, x=0. * u.nA):\n",
    "        return super().compute_derivative(x * self.area)\n",
    "\n",
    "    def step_run(self, t, inp):\n",
    "        with brainstate.environ.context(t=t):\n",
    "            self.update(inp)\n",
    "            return self.V.value"
   ]
  },
  {
   "cell_type": "code",
   "execution_count": 2,
   "metadata": {},
   "outputs": [],
   "source": [
    "class Test_Neuron(braincell.neuron.SingleCompartment):\n",
    "    def compute_derivative(self, x=0. * u.nA):\n",
    "        return super().compute_derivative(x * self.area)\n",
    "\n",
    "    def step_run(self, t, inp):\n",
    "        with brainstate.environ.context(t=t):\n",
    "            self.update(inp)\n",
    "            return self.V.value"
   ]
  },
  {
   "cell_type": "code",
   "execution_count": 3,
   "metadata": {},
   "outputs": [],
   "source": [
    "class HH(Test_Neuron):\n",
    "    def __init__(\n",
    "        self,\n",
    "        size,\n",
    "        gKL=0.01 * (u.mS / u.cm ** 2),\n",
    "        V_initializer=brainstate.init.Constant(-65. * u.mV),\n",
    "        solver: str = 'exp_euler'\n",
    "    ):\n",
    "        super().__init__(size, V_initializer=V_initializer, V_th=20. * u.mV, solver=solver)\n",
    "\n",
    "        self.area = 1e-3 / (2.9e-4 * u.cm ** 2)\n",
    "\n",
    "        self.na = braincell.ion.SodiumFixed(self.varshape, E=50. * u.mV)\n",
    "        self.na.add(INa =braincell.channel.INa_Rsg(self.varshape, g_max= 15 * u.mS / (u.cm ** 2)))\n",
    "        #self.na = braincell.ion.SodiumFixed(size, E=50. * u.mV)\n",
    "        #self.na.add(INa=braincell.channel.INa_Ba2002(size, V_sh=-30 * u.mV))\n",
    "\n",
    "        #self.k = braincell.ion.PotassiumFixed(size, E=-90. * u.mV)\n",
    "        #self.k.add(IKL=braincell.channel.IK_Leak(size, g_max=gKL))\n",
    "\n",
    "        self.IL = braincell.channel.IL(size, g_max=0.0075 * (u.mS / u.cm ** 2), E=-70 * u.mV)\n"
   ]
  },
  {
   "cell_type": "code",
   "execution_count": 7,
   "metadata": {},
   "outputs": [
    {
     "name": "stdout",
     "output_type": "stream",
     "text": [
      "Elapsed time: 1171.9341 s\n"
     ]
    },
    {
     "data": {
      "image/png": "[encoded data removed]",
      "text/plain": [
       "<Figure size 640x480 with 1 Axes>"
      ]
     },
     "metadata": {},
     "output_type": "display_data"
    }
   ],
   "source": [
    "def try_trn_neuron():\n",
    "    import jax\n",
    "    #jax.config.update(\"jax_disable_jit\", True)\n",
    "    brainstate.environ.set(dt=0.002 * u.ms)\n",
    "\n",
    "    I = braintools.input.section_input(values=[0, 0.05, 0], durations=[50 * u.ms, 200 * u.ms, 100 * u.ms]) * u.uA\n",
    "    times = u.math.arange(I.shape[0]) * brainstate.environ.get_dt()\n",
    "\n",
    "    # neu = HTC(1)  # [n_neuron, ]\n",
    "    # neu = IN(1)  # [n_neuron, ]\n",
    "    # neu = RTC(1)  # [n_neuron, ]\n",
    "    neu = HH(1, solver='splitting')  # [n_neuron,]\n",
    "    neu.init_state()\n",
    "\n",
    "    t0 = time.time()\n",
    "    vs = brainstate.compile.for_loop(neu.step_run, times, I)\n",
    "    t1 = time.time()\n",
    "    print(f\"Elapsed time: {t1 - t0:.4f} s\")\n",
    "\n",
    "    plt.plot(times.to_decimal(u.ms), u.math.squeeze(vs.to_decimal(u.mV)))\n",
    "    plt.show()\n",
    "\n",
    "\n",
    "if __name__ == '__main__':\n",
    "    try_trn_neuron()"
   ]
  }
 ],
 "metadata": {
  "kernelspec": {
   "display_name": "braincell",
   "language": "python",
   "name": "python3"
  },
  "language_info": {
   "codemirror_mode": {
    "name": "ipython",
    "version": 3
   },
   "file_extension": ".py",
   "mimetype": "text/x-python",
   "name": "python",
   "nbconvert_exporter": "python",
   "pygments_lexer": "ipython3",
   "version": "3.10.16"
  }
 },
 "nbformat": 4,
 "nbformat_minor": 2
}
